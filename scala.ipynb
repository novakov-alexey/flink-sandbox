{
 "cells": [
  {
   "cell_type": "code",
   "execution_count": 1,
   "metadata": {},
   "outputs": [
    {
     "data": {
      "text/plain": [
       "\u001b[32mimport \u001b[39m\u001b[36m$ivy.$                                            \n",
       "\u001b[39m\n",
       "\u001b[32mimport \u001b[39m\u001b[36m$ivy.$                                      \n",
       "\n",
       "\u001b[39m\n",
       "\u001b[32mimport \u001b[39m\u001b[36morg.apache.flink.api._\n",
       "\u001b[39m\n",
       "\u001b[32mimport \u001b[39m\u001b[36morg.apache.flink.api.serializers._\u001b[39m"
      ]
     },
     "execution_count": 1,
     "metadata": {},
     "output_type": "execute_result"
    }
   ],
   "source": [
    "// Use Almond Scala Kernel https://almond.sh/\n",
    "import $ivy.`org.flinkextended::flink-scala-api:1.16.1.3`\n",
    "import $ivy.`org.apache.flink:flink-clients:1.16.1`\n",
    "\n",
    "import org.apache.flink.api._\n",
    "import org.apache.flink.api.serializers._"
   ]
  },
  {
   "cell_type": "code",
   "execution_count": 6,
   "metadata": {},
   "outputs": [
    {
     "data": {
      "text/plain": [
       "\u001b[36menv\u001b[39m: \u001b[32mStreamExecutionEnvironment\u001b[39m = org.apache.flink.api.StreamExecutionEnvironment@744db7bf"
      ]
     },
     "execution_count": 6,
     "metadata": {},
     "output_type": "execute_result"
    }
   ],
   "source": [
    "val env = StreamExecutionEnvironment.getExecutionEnvironment"
   ]
  },
  {
   "cell_type": "code",
   "execution_count": 8,
   "metadata": {},
   "outputs": [
    {
     "data": {
      "text/plain": [
       "\u001b[36mtext\u001b[39m: \u001b[32mDataStream\u001b[39m[\u001b[32mString\u001b[39m] = org.apache.flink.api.DataStream@3b894311"
      ]
     },
     "execution_count": 8,
     "metadata": {},
     "output_type": "execute_result"
    }
   ],
   "source": [
    "val text = env.fromElements(\n",
    "    \"To be, or not to be,--that is the question:--\",\n",
    "    \"Whether 'tis nobler in the mind to suffer\",\n",
    "    \"The slings and arrows of outrageous fortune\",\n",
    "    \"Or to take arms against a sea of troubles,\"\n",
    "  )"
   ]
  },
  {
   "cell_type": "code",
   "execution_count": 9,
   "metadata": {},
   "outputs": [
    {
     "data": {
      "text/plain": [
       "\u001b[36mwords\u001b[39m: \u001b[32mList\u001b[39m[(\u001b[32mString\u001b[39m, \u001b[32mInt\u001b[39m)] = \u001b[33mList\u001b[39m(\n",
       "  (\u001b[32m\"slings\"\u001b[39m, \u001b[32m1\u001b[39m),\n",
       "  (\u001b[32m\"whether\"\u001b[39m, \u001b[32m1\u001b[39m),\n",
       "  (\u001b[32m\"take\"\u001b[39m, \u001b[32m1\u001b[39m),\n",
       "  (\u001b[32m\"sea\"\u001b[39m, \u001b[32m1\u001b[39m),\n",
       "  (\u001b[32m\"troubles\"\u001b[39m, \u001b[32m1\u001b[39m),\n",
       "  (\u001b[32m\"not\"\u001b[39m, \u001b[32m1\u001b[39m),\n",
       "  (\u001b[32m\"nobler\"\u001b[39m, \u001b[32m1\u001b[39m),\n",
       "  (\u001b[32m\"fortune\"\u001b[39m, \u001b[32m1\u001b[39m),\n",
       "  (\u001b[32m\"the\"\u001b[39m, \u001b[32m1\u001b[39m),\n",
       "  (\u001b[32m\"the\"\u001b[39m, \u001b[32m2\u001b[39m),\n",
       "  (\u001b[32m\"the\"\u001b[39m, \u001b[32m3\u001b[39m),\n",
       "  (\u001b[32m\"to\"\u001b[39m, \u001b[32m1\u001b[39m),\n",
       "  (\u001b[32m\"to\"\u001b[39m, \u001b[32m2\u001b[39m),\n",
       "  (\u001b[32m\"tis\"\u001b[39m, \u001b[32m1\u001b[39m),\n",
       "  (\u001b[32m\"in\"\u001b[39m, \u001b[32m1\u001b[39m),\n",
       "  (\u001b[32m\"to\"\u001b[39m, \u001b[32m3\u001b[39m),\n",
       "  (\u001b[32m\"suffer\"\u001b[39m, \u001b[32m1\u001b[39m),\n",
       "  (\u001b[32m\"of\"\u001b[39m, \u001b[32m1\u001b[39m),\n",
       "  (\u001b[32m\"to\"\u001b[39m, \u001b[32m4\u001b[39m),\n",
       "  (\u001b[32m\"arms\"\u001b[39m, \u001b[32m1\u001b[39m),\n",
       "  (\u001b[32m\"of\"\u001b[39m, \u001b[32m2\u001b[39m),\n",
       "  (\u001b[32m\"mind\"\u001b[39m, \u001b[32m1\u001b[39m),\n",
       "  (\u001b[32m\"against\"\u001b[39m, \u001b[32m1\u001b[39m),\n",
       "  (\u001b[32m\"is\"\u001b[39m, \u001b[32m1\u001b[39m),\n",
       "  (\u001b[32m\"and\"\u001b[39m, \u001b[32m1\u001b[39m),\n",
       "  (\u001b[32m\"outrageous\"\u001b[39m, \u001b[32m1\u001b[39m),\n",
       "  (\u001b[32m\"be\"\u001b[39m, \u001b[32m1\u001b[39m),\n",
       "  (\u001b[32m\"or\"\u001b[39m, \u001b[32m1\u001b[39m),\n",
       "  (\u001b[32m\"be\"\u001b[39m, \u001b[32m2\u001b[39m),\n",
       "  (\u001b[32m\"that\"\u001b[39m, \u001b[32m1\u001b[39m),\n",
       "  (\u001b[32m\"question\"\u001b[39m, \u001b[32m1\u001b[39m),\n",
       "  (\u001b[32m\"arrows\"\u001b[39m, \u001b[32m1\u001b[39m),\n",
       "  (\u001b[32m\"or\"\u001b[39m, \u001b[32m2\u001b[39m),\n",
       "  (\u001b[32m\"a\"\u001b[39m, \u001b[32m1\u001b[39m)\n",
       ")"
      ]
     },
     "execution_count": 9,
     "metadata": {},
     "output_type": "execute_result"
    }
   ],
   "source": [
    "val words = text\n",
    "    .flatMap(_.toLowerCase.split(\"\\\\W+\"))\n",
    "    .map((_, 1))\n",
    "    .keyBy(_._1)\n",
    "    .sum(1)\n",
    "    .executeAndCollect(\"wordCount\").toList"
   ]
  },
  {
   "cell_type": "code",
   "execution_count": 4,
   "metadata": {},
   "outputs": [],
   "source": [
    "//env.execute(\"wordCount\")"
   ]
  },
  {
   "cell_type": "code",
   "execution_count": 10,
   "metadata": {},
   "outputs": [
    {
     "data": {
      "application/vnd.plotly.v1+json": {
       "config": {},
       "data": [
        {
         "type": "bar",
         "x": [
          "slings",
          "whether",
          "take",
          "sea",
          "troubles",
          "not",
          "nobler",
          "fortune",
          "the",
          "the",
          "the",
          "to",
          "to",
          "tis",
          "in",
          "to",
          "suffer",
          "of",
          "to",
          "arms",
          "of",
          "mind",
          "against",
          "is",
          "and",
          "outrageous",
          "be",
          "or",
          "be",
          "that",
          "question",
          "arrows",
          "or",
          "a"
         ],
         "y": [
          1,
          1,
          1,
          1,
          1,
          1,
          1,
          1,
          1,
          2,
          3,
          1,
          2,
          1,
          1,
          3,
          1,
          1,
          4,
          1,
          2,
          1,
          1,
          1,
          1,
          1,
          1,
          1,
          2,
          1,
          1,
          1,
          2,
          1
         ]
        }
       ],
       "layout": {}
      },
      "text/html": [
       "<div class=\"chart\" id=\"plot-7868b932-e917-42f6-857d-bb1780d327b1\"></div>\n",
       "<script>require(['plotly'], function(Plotly) {\n",
       "  (function () {\n",
       "  var data0 = {\"x\":[\"slings\",\"whether\",\"take\",\"sea\",\"troubles\",\"not\",\"nobler\",\"fortune\",\"the\",\"the\",\"the\",\"to\",\"to\",\"tis\",\"in\",\"to\",\"suffer\",\"of\",\"to\",\"arms\",\"of\",\"mind\",\"against\",\"is\",\"and\",\"outrageous\",\"be\",\"or\",\"be\",\"that\",\"question\",\"arrows\",\"or\",\"a\"],\"y\":[1.0,1.0,1.0,1.0,1.0,1.0,1.0,1.0,1.0,2.0,3.0,1.0,2.0,1.0,1.0,3.0,1.0,1.0,4.0,1.0,2.0,1.0,1.0,1.0,1.0,1.0,1.0,1.0,2.0,1.0,1.0,1.0,2.0,1.0],\"type\":\"bar\"};\n",
       "\n",
       "  var data = [data0];\n",
       "  var layout = {};\n",
       " var config = {};\n",
       "\n",
       "  Plotly.plot('plot-7868b932-e917-42f6-857d-bb1780d327b1', data, layout, config);\n",
       "})();\n",
       "});\n",
       "      </script>\n",
       "           "
      ]
     },
     "metadata": {},
     "output_type": "display_data"
    },
    {
     "data": {
      "text/plain": [
       "\u001b[32mimport \u001b[39m\u001b[36m$ivy.$                                      \n",
       "\n",
       "\u001b[39m\n",
       "\u001b[32mimport \u001b[39m\u001b[36mplotly._\n",
       "\u001b[39m\n",
       "\u001b[32mimport \u001b[39m\u001b[36mplotly.element._\n",
       "\u001b[39m\n",
       "\u001b[32mimport \u001b[39m\u001b[36mplotly.layout._\n",
       "\u001b[39m\n",
       "\u001b[32mimport \u001b[39m\u001b[36mplotly.Almond._\n",
       "\n",
       "\u001b[39m\n",
       "\u001b[36mx\u001b[39m: \u001b[32mList\u001b[39m[\u001b[32mString\u001b[39m] = \u001b[33mList\u001b[39m(\n",
       "  \u001b[32m\"slings\"\u001b[39m,\n",
       "  \u001b[32m\"whether\"\u001b[39m,\n",
       "  \u001b[32m\"take\"\u001b[39m,\n",
       "  \u001b[32m\"sea\"\u001b[39m,\n",
       "  \u001b[32m\"troubles\"\u001b[39m,\n",
       "  \u001b[32m\"not\"\u001b[39m,\n",
       "  \u001b[32m\"nobler\"\u001b[39m,\n",
       "  \u001b[32m\"fortune\"\u001b[39m,\n",
       "  \u001b[32m\"the\"\u001b[39m,\n",
       "  \u001b[32m\"the\"\u001b[39m,\n",
       "  \u001b[32m\"the\"\u001b[39m,\n",
       "  \u001b[32m\"to\"\u001b[39m,\n",
       "  \u001b[32m\"to\"\u001b[39m,\n",
       "  \u001b[32m\"tis\"\u001b[39m,\n",
       "  \u001b[32m\"in\"\u001b[39m,\n",
       "  \u001b[32m\"to\"\u001b[39m,\n",
       "  \u001b[32m\"suffer\"\u001b[39m,\n",
       "  \u001b[32m\"of\"\u001b[39m,\n",
       "  \u001b[32m\"to\"\u001b[39m,\n",
       "  \u001b[32m\"arms\"\u001b[39m,\n",
       "  \u001b[32m\"of\"\u001b[39m,\n",
       "  \u001b[32m\"mind\"\u001b[39m,\n",
       "  \u001b[32m\"against\"\u001b[39m,\n",
       "  \u001b[32m\"is\"\u001b[39m,\n",
       "  \u001b[32m\"and\"\u001b[39m,\n",
       "  \u001b[32m\"outrageous\"\u001b[39m,\n",
       "  \u001b[32m\"be\"\u001b[39m,\n",
       "  \u001b[32m\"or\"\u001b[39m,\n",
       "  \u001b[32m\"be\"\u001b[39m,\n",
       "  \u001b[32m\"that\"\u001b[39m,\n",
       "  \u001b[32m\"question\"\u001b[39m,\n",
       "  \u001b[32m\"arrows\"\u001b[39m,\n",
       "  \u001b[32m\"or\"\u001b[39m,\n",
       "  \u001b[32m\"a\"\u001b[39m\n",
       ")\n",
       "\u001b[36my\u001b[39m: \u001b[32mList\u001b[39m[\u001b[32mInt\u001b[39m] = \u001b[33mList\u001b[39m(\n",
       "  \u001b[32m1\u001b[39m,\n",
       "  \u001b[32m1\u001b[39m,\n",
       "  \u001b[32m1\u001b[39m,\n",
       "  \u001b[32m1\u001b[39m,\n",
       "  \u001b[32m1\u001b[39m,\n",
       "  \u001b[32m1\u001b[39m,\n",
       "  \u001b[32m1\u001b[39m,\n",
       "  \u001b[32m1\u001b[39m,\n",
       "  \u001b[32m1\u001b[39m,\n",
       "  \u001b[32m2\u001b[39m,\n",
       "  \u001b[32m3\u001b[39m,\n",
       "  \u001b[32m1\u001b[39m,\n",
       "  \u001b[32m2\u001b[39m,\n",
       "  \u001b[32m1\u001b[39m,\n",
       "  \u001b[32m1\u001b[39m,\n",
       "  \u001b[32m3\u001b[39m,\n",
       "  \u001b[32m1\u001b[39m,\n",
       "  \u001b[32m1\u001b[39m,\n",
       "  \u001b[32m4\u001b[39m,\n",
       "  \u001b[32m1\u001b[39m,\n",
       "  \u001b[32m2\u001b[39m,\n",
       "  \u001b[32m1\u001b[39m,\n",
       "  \u001b[32m1\u001b[39m,\n",
       "  \u001b[32m1\u001b[39m,\n",
       "  \u001b[32m1\u001b[39m,\n",
       "  \u001b[32m1\u001b[39m,\n",
       "  \u001b[32m1\u001b[39m,\n",
       "  \u001b[32m1\u001b[39m,\n",
       "  \u001b[32m2\u001b[39m,\n",
       "  \u001b[32m1\u001b[39m,\n",
       "  \u001b[32m1\u001b[39m,\n",
       "  \u001b[32m1\u001b[39m,\n",
       "  \u001b[32m2\u001b[39m,\n",
       "  \u001b[32m1\u001b[39m\n",
       ")\n",
       "\u001b[36mres9_6\u001b[39m: \u001b[32mString\u001b[39m = \u001b[32m\"plot-7868b932-e917-42f6-857d-bb1780d327b1\"\u001b[39m"
      ]
     },
     "execution_count": 10,
     "metadata": {},
     "output_type": "execute_result"
    }
   ],
   "source": [
    "import $ivy.`org.plotly-scala::plotly-almond:0.8.1`\n",
    "\n",
    "import plotly._\n",
    "import plotly.element._\n",
    "import plotly.layout._\n",
    "import plotly.Almond._\n",
    "\n",
    "val (x, y) = words.unzip\n",
    "\n",
    "Bar(x, y).plot()"
   ]
  }
 ],
 "metadata": {
  "kernelspec": {
   "display_name": "Scala",
   "language": "scala",
   "name": "scala"
  },
  "language_info": {
   "codemirror_mode": "text/x-scala",
   "file_extension": ".sc",
   "mimetype": "text/x-scala",
   "name": "scala",
   "nbconvert_exporter": "script",
   "version": "2.13.10"
  },
  "orig_nbformat": 4
 },
 "nbformat": 4,
 "nbformat_minor": 2
}
