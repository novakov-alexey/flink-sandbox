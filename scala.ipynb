{
 "cells": [
  {
   "cell_type": "code",
   "execution_count": 6,
   "metadata": {},
   "outputs": [
    {
     "data": {
      "text/plain": [
       "\u001b[32mimport \u001b[39m\u001b[36m$ivy.$                                            \n",
       "\u001b[39m\n",
       "\u001b[32mimport \u001b[39m\u001b[36m$ivy.$                                      \n",
       "\n",
       "\u001b[39m\n",
       "\u001b[32mimport \u001b[39m\u001b[36morg.apache.flink.api._\n",
       "\u001b[39m\n",
       "\u001b[32mimport \u001b[39m\u001b[36morg.apache.flink.api.serializers._\n",
       "\u001b[39m"
      ]
     },
     "execution_count": 6,
     "metadata": {},
     "output_type": "execute_result"
    }
   ],
   "source": [
    "// Use Almond Scala Kernel https://almond.sh/\n",
    "import $ivy.`org.flinkextended::flink-scala-api:1.16.1.3`\n",
    "import $ivy.`org.apache.flink:flink-clients:1.16.1`\n",
    "\n",
    "import org.apache.flink.api._\n",
    "import org.apache.flink.api.serializers._"
   ]
  },
  {
   "cell_type": "code",
   "execution_count": 7,
   "metadata": {},
   "outputs": [
    {
     "data": {
      "text/plain": [
       "\u001b[36menv\u001b[39m: \u001b[32mStreamExecutionEnvironment\u001b[39m = org.apache.flink.api.StreamExecutionEnvironment@50fe473a"
      ]
     },
     "execution_count": 7,
     "metadata": {},
     "output_type": "execute_result"
    }
   ],
   "source": [
    "val env = StreamExecutionEnvironment.getExecutionEnvironment"
   ]
  },
  {
   "cell_type": "code",
   "execution_count": 8,
   "metadata": {},
   "outputs": [
    {
     "data": {
      "text/plain": [
       "\u001b[36mtext\u001b[39m: \u001b[32mDataStream\u001b[39m[\u001b[32mString\u001b[39m] = org.apache.flink.api.DataStream@58b9eea8"
      ]
     },
     "execution_count": 8,
     "metadata": {},
     "output_type": "execute_result"
    }
   ],
   "source": [
    "val text = env.fromElements(\n",
    "    \"To be, or not to be,--that is the question:--\",\n",
    "    \"Whether 'tis nobler in the mind to suffer\",\n",
    "    \"The slings and arrows of outrageous fortune\",\n",
    "    \"Or to take arms against a sea of troubles,\"\n",
    "  )"
   ]
  },
  {
   "cell_type": "code",
   "execution_count": 14,
   "metadata": {},
   "outputs": [
    {
     "data": {
      "text/plain": [
       "\u001b[36mwords\u001b[39m: \u001b[32mList\u001b[39m[(\u001b[32mString\u001b[39m, \u001b[32mInt\u001b[39m)] = \u001b[33mList\u001b[39m(\n",
       "  (\u001b[32m\"slings\"\u001b[39m, \u001b[32m1\u001b[39m),\n",
       "  (\u001b[32m\"whether\"\u001b[39m, \u001b[32m1\u001b[39m),\n",
       "  (\u001b[32m\"take\"\u001b[39m, \u001b[32m1\u001b[39m),\n",
       "  (\u001b[32m\"sea\"\u001b[39m, \u001b[32m1\u001b[39m),\n",
       "  (\u001b[32m\"troubles\"\u001b[39m, \u001b[32m1\u001b[39m),\n",
       "  (\u001b[32m\"not\"\u001b[39m, \u001b[32m1\u001b[39m),\n",
       "  (\u001b[32m\"nobler\"\u001b[39m, \u001b[32m1\u001b[39m),\n",
       "  (\u001b[32m\"fortune\"\u001b[39m, \u001b[32m1\u001b[39m),\n",
       "  (\u001b[32m\"the\"\u001b[39m, \u001b[32m1\u001b[39m),\n",
       "  (\u001b[32m\"the\"\u001b[39m, \u001b[32m2\u001b[39m),\n",
       "  (\u001b[32m\"the\"\u001b[39m, \u001b[32m3\u001b[39m),\n",
       "  (\u001b[32m\"be\"\u001b[39m, \u001b[32m1\u001b[39m),\n",
       "  (\u001b[32m\"or\"\u001b[39m, \u001b[32m1\u001b[39m),\n",
       "  (\u001b[32m\"be\"\u001b[39m, \u001b[32m2\u001b[39m),\n",
       "  (\u001b[32m\"that\"\u001b[39m, \u001b[32m1\u001b[39m),\n",
       "  (\u001b[32m\"question\"\u001b[39m, \u001b[32m1\u001b[39m),\n",
       "  (\u001b[32m\"arrows\"\u001b[39m, \u001b[32m1\u001b[39m),\n",
       "  (\u001b[32m\"or\"\u001b[39m, \u001b[32m2\u001b[39m),\n",
       "  (\u001b[32m\"a\"\u001b[39m, \u001b[32m1\u001b[39m),\n",
       "  (\u001b[32m\"to\"\u001b[39m, \u001b[32m1\u001b[39m),\n",
       "  (\u001b[32m\"to\"\u001b[39m, \u001b[32m2\u001b[39m),\n",
       "  (\u001b[32m\"tis\"\u001b[39m, \u001b[32m1\u001b[39m),\n",
       "  (\u001b[32m\"in\"\u001b[39m, \u001b[32m1\u001b[39m),\n",
       "  (\u001b[32m\"to\"\u001b[39m, \u001b[32m3\u001b[39m),\n",
       "  (\u001b[32m\"suffer\"\u001b[39m, \u001b[32m1\u001b[39m),\n",
       "  (\u001b[32m\"of\"\u001b[39m, \u001b[32m1\u001b[39m),\n",
       "  (\u001b[32m\"to\"\u001b[39m, \u001b[32m4\u001b[39m),\n",
       "  (\u001b[32m\"arms\"\u001b[39m, \u001b[32m1\u001b[39m),\n",
       "  (\u001b[32m\"of\"\u001b[39m, \u001b[32m2\u001b[39m),\n",
       "  (\u001b[32m\"mind\"\u001b[39m, \u001b[32m1\u001b[39m),\n",
       "  (\u001b[32m\"against\"\u001b[39m, \u001b[32m1\u001b[39m),\n",
       "  (\u001b[32m\"is\"\u001b[39m, \u001b[32m1\u001b[39m),\n",
       "  (\u001b[32m\"and\"\u001b[39m, \u001b[32m1\u001b[39m),\n",
       "  (\u001b[32m\"outrageous\"\u001b[39m, \u001b[32m1\u001b[39m)\n",
       ")"
      ]
     },
     "execution_count": 14,
     "metadata": {},
     "output_type": "execute_result"
    }
   ],
   "source": [
    "val words = text\n",
    "    .flatMap(_.toLowerCase.split(\"\\\\W+\"))\n",
    "    .map((_, 1))\n",
    "    .keyBy(_._1)\n",
    "    .sum(1)\n",
    "    .executeAndCollect(\"wordCount\").toList\n",
    "\n"
   ]
  },
  {
   "cell_type": "code",
   "execution_count": 10,
   "metadata": {},
   "outputs": [
    {
     "name": "stdout",
     "output_type": "stream",
     "text": [
      "2> (slings,1)\n",
      "4> (take,1)\n",
      "4> (sea,1)\n",
      "4> (troubles,1)\n",
      "4> (whether,1)\n",
      "5> (not,1)\n",
      "5> (nobler,1)\n",
      "5> (fortune,1)\n",
      "6> (the,1)\n",
      "6> (the,2)\n",
      "6> (the,3)\n",
      "7> (or,1)\n",
      "7> (a,1)\n",
      "7> (be,1)\n",
      "7> (or,2)\n",
      "7> (be,2)\n",
      "7> (that,1)\n",
      "7> (question,1)\n",
      "7> (arrows,1)\n",
      "8> (to,1)\n",
      "8> (arms,1)\n",
      "8> (of,1)\n",
      "8> (to,2)\n",
      "8> (to,3)\n",
      "8> (tis,1)\n",
      "8> (in,1)\n",
      "8> (to,4)\n",
      "8> (suffer,1)\n",
      "8> (of,2)\n",
      "9> (against,1)\n",
      "9> (mind,1)\n",
      "10> (is,1)\n",
      "10> (and,1)\n",
      "10> (outrageous,1)\n"
     ]
    },
    {
     "data": {
      "text/plain": [
       "\u001b[36mres9\u001b[39m: \u001b[32mcommon\u001b[39m.\u001b[32mJobExecutionResult\u001b[39m = Program execution finished\n",
       "Job with JobID efbc682f08d6c3ebcd5a0d97bde55005 has finished.\n",
       "Job Runtime: 126 ms\n"
      ]
     },
     "execution_count": 10,
     "metadata": {},
     "output_type": "execute_result"
    }
   ],
   "source": [
    "//env.execute(\"wordCount\")"
   ]
  },
  {
   "cell_type": "code",
   "execution_count": 21,
   "metadata": {},
   "outputs": [
    {
     "data": {
      "application/vnd.plotly.v1+json": {
       "config": {},
       "data": [
        {
         "type": "bar",
         "x": [
          "slings",
          "whether",
          "take",
          "sea",
          "troubles",
          "not",
          "nobler",
          "fortune",
          "the",
          "the",
          "the",
          "be",
          "or",
          "be",
          "that",
          "question",
          "arrows",
          "or",
          "a",
          "to",
          "to",
          "tis",
          "in",
          "to",
          "suffer",
          "of",
          "to",
          "arms",
          "of",
          "mind",
          "against",
          "is",
          "and",
          "outrageous"
         ],
         "y": [
          1,
          1,
          1,
          1,
          1,
          1,
          1,
          1,
          1,
          2,
          3,
          1,
          1,
          2,
          1,
          1,
          1,
          2,
          1,
          1,
          2,
          1,
          1,
          3,
          1,
          1,
          4,
          1,
          2,
          1,
          1,
          1,
          1,
          1
         ]
        }
       ],
       "layout": {}
      },
      "text/html": [
       "<div class=\"chart\" id=\"plot-74a81074-442c-4496-93d1-f5efad07850e\"></div>\n",
       "<script>require(['plotly'], function(Plotly) {\n",
       "  (function () {\n",
       "  var data0 = {\"x\":[\"slings\",\"whether\",\"take\",\"sea\",\"troubles\",\"not\",\"nobler\",\"fortune\",\"the\",\"the\",\"the\",\"be\",\"or\",\"be\",\"that\",\"question\",\"arrows\",\"or\",\"a\",\"to\",\"to\",\"tis\",\"in\",\"to\",\"suffer\",\"of\",\"to\",\"arms\",\"of\",\"mind\",\"against\",\"is\",\"and\",\"outrageous\"],\"y\":[1.0,1.0,1.0,1.0,1.0,1.0,1.0,1.0,1.0,2.0,3.0,1.0,1.0,2.0,1.0,1.0,1.0,2.0,1.0,1.0,2.0,1.0,1.0,3.0,1.0,1.0,4.0,1.0,2.0,1.0,1.0,1.0,1.0,1.0],\"type\":\"bar\"};\n",
       "\n",
       "  var data = [data0];\n",
       "  var layout = {};\n",
       " var config = {};\n",
       "\n",
       "  Plotly.plot('plot-74a81074-442c-4496-93d1-f5efad07850e', data, layout, config);\n",
       "})();\n",
       "});\n",
       "      </script>\n",
       "           "
      ]
     },
     "metadata": {},
     "output_type": "display_data"
    },
    {
     "data": {
      "text/plain": [
       "\u001b[32mimport \u001b[39m\u001b[36m$ivy.$                                      \n",
       "\n",
       "\u001b[39m\n",
       "\u001b[32mimport \u001b[39m\u001b[36mplotly._\n",
       "\u001b[39m\n",
       "\u001b[32mimport \u001b[39m\u001b[36mplotly.element._\n",
       "\u001b[39m\n",
       "\u001b[32mimport \u001b[39m\u001b[36mplotly.layout._\n",
       "\u001b[39m\n",
       "\u001b[32mimport \u001b[39m\u001b[36mplotly.Almond._\n",
       "\n",
       "\u001b[39m\n",
       "\u001b[36mx\u001b[39m: \u001b[32mList\u001b[39m[\u001b[32mString\u001b[39m] = \u001b[33mList\u001b[39m(\n",
       "  \u001b[32m\"slings\"\u001b[39m,\n",
       "  \u001b[32m\"whether\"\u001b[39m,\n",
       "  \u001b[32m\"take\"\u001b[39m,\n",
       "  \u001b[32m\"sea\"\u001b[39m,\n",
       "  \u001b[32m\"troubles\"\u001b[39m,\n",
       "  \u001b[32m\"not\"\u001b[39m,\n",
       "  \u001b[32m\"nobler\"\u001b[39m,\n",
       "  \u001b[32m\"fortune\"\u001b[39m,\n",
       "  \u001b[32m\"the\"\u001b[39m,\n",
       "  \u001b[32m\"the\"\u001b[39m,\n",
       "  \u001b[32m\"the\"\u001b[39m,\n",
       "  \u001b[32m\"be\"\u001b[39m,\n",
       "  \u001b[32m\"or\"\u001b[39m,\n",
       "  \u001b[32m\"be\"\u001b[39m,\n",
       "  \u001b[32m\"that\"\u001b[39m,\n",
       "  \u001b[32m\"question\"\u001b[39m,\n",
       "  \u001b[32m\"arrows\"\u001b[39m,\n",
       "  \u001b[32m\"or\"\u001b[39m,\n",
       "  \u001b[32m\"a\"\u001b[39m,\n",
       "  \u001b[32m\"to\"\u001b[39m,\n",
       "  \u001b[32m\"to\"\u001b[39m,\n",
       "  \u001b[32m\"tis\"\u001b[39m,\n",
       "  \u001b[32m\"in\"\u001b[39m,\n",
       "  \u001b[32m\"to\"\u001b[39m,\n",
       "  \u001b[32m\"suffer\"\u001b[39m,\n",
       "  \u001b[32m\"of\"\u001b[39m,\n",
       "  \u001b[32m\"to\"\u001b[39m,\n",
       "  \u001b[32m\"arms\"\u001b[39m,\n",
       "  \u001b[32m\"of\"\u001b[39m,\n",
       "  \u001b[32m\"mind\"\u001b[39m,\n",
       "  \u001b[32m\"against\"\u001b[39m,\n",
       "  \u001b[32m\"is\"\u001b[39m,\n",
       "  \u001b[32m\"and\"\u001b[39m,\n",
       "  \u001b[32m\"outrageous\"\u001b[39m\n",
       ")\n",
       "\u001b[36my\u001b[39m: \u001b[32mList\u001b[39m[\u001b[32mInt\u001b[39m] = \u001b[33mList\u001b[39m(\n",
       "  \u001b[32m1\u001b[39m,\n",
       "  \u001b[32m1\u001b[39m,\n",
       "  \u001b[32m1\u001b[39m,\n",
       "  \u001b[32m1\u001b[39m,\n",
       "  \u001b[32m1\u001b[39m,\n",
       "  \u001b[32m1\u001b[39m,\n",
       "  \u001b[32m1\u001b[39m,\n",
       "  \u001b[32m1\u001b[39m,\n",
       "  \u001b[32m1\u001b[39m,\n",
       "  \u001b[32m2\u001b[39m,\n",
       "  \u001b[32m3\u001b[39m,\n",
       "  \u001b[32m1\u001b[39m,\n",
       "  \u001b[32m1\u001b[39m,\n",
       "  \u001b[32m2\u001b[39m,\n",
       "  \u001b[32m1\u001b[39m,\n",
       "  \u001b[32m1\u001b[39m,\n",
       "  \u001b[32m1\u001b[39m,\n",
       "  \u001b[32m2\u001b[39m,\n",
       "  \u001b[32m1\u001b[39m,\n",
       "  \u001b[32m1\u001b[39m,\n",
       "  \u001b[32m2\u001b[39m,\n",
       "  \u001b[32m1\u001b[39m,\n",
       "  \u001b[32m1\u001b[39m,\n",
       "  \u001b[32m3\u001b[39m,\n",
       "  \u001b[32m1\u001b[39m,\n",
       "  \u001b[32m1\u001b[39m,\n",
       "  \u001b[32m4\u001b[39m,\n",
       "  \u001b[32m1\u001b[39m,\n",
       "  \u001b[32m2\u001b[39m,\n",
       "  \u001b[32m1\u001b[39m,\n",
       "  \u001b[32m1\u001b[39m,\n",
       "  \u001b[32m1\u001b[39m,\n",
       "  \u001b[32m1\u001b[39m,\n",
       "  \u001b[32m1\u001b[39m\n",
       ")\n",
       "\u001b[36mres20_6\u001b[39m: \u001b[32mString\u001b[39m = \u001b[32m\"plot-74a81074-442c-4496-93d1-f5efad07850e\"\u001b[39m"
      ]
     },
     "execution_count": 21,
     "metadata": {},
     "output_type": "execute_result"
    }
   ],
   "source": [
    "import $ivy.`org.plotly-scala::plotly-almond:0.8.1`\n",
    "\n",
    "import plotly._\n",
    "import plotly.element._\n",
    "import plotly.layout._\n",
    "import plotly.Almond._\n",
    "\n",
    "val (x, y) = words.unzip\n",
    "\n",
    "Bar(x, y).plot()\n"
   ]
  },
  {
   "cell_type": "code",
   "execution_count": null,
   "metadata": {},
   "outputs": [],
   "source": []
  }
 ],
 "metadata": {
  "kernelspec": {
   "display_name": "Scala",
   "language": "scala",
   "name": "scala"
  },
  "language_info": {
   "codemirror_mode": "text/x-scala",
   "file_extension": ".sc",
   "mimetype": "text/x-scala",
   "name": "scala",
   "nbconvert_exporter": "script",
   "version": "2.13.10"
  },
  "orig_nbformat": 4
 },
 "nbformat": 4,
 "nbformat_minor": 2
}
