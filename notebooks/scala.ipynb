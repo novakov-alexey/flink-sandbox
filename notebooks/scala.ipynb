{
 "cells": [
  {
   "cell_type": "code",
   "execution_count": 1,
   "metadata": {},
   "outputs": [
    {
     "data": {
      "text/plain": [
       "\u001b[32mimport \u001b[39m\u001b[36m$ivy.$                                                \n",
       "\u001b[39m\n",
       "\u001b[32mimport \u001b[39m\u001b[36m$ivy.$                                      \n",
       "\u001b[39m\n",
       "\u001b[32mimport \u001b[39m\u001b[36m$ivy.$                                   \n",
       "\u001b[39m\n",
       "\u001b[32mimport \u001b[39m\u001b[36m$ivy.$                                          \n",
       "\n",
       "\u001b[39m\n",
       "\u001b[32mimport \u001b[39m\u001b[36morg.apache.flinkx.api._\n",
       "\u001b[39m\n",
       "\u001b[32mimport \u001b[39m\u001b[36morg.apache.flinkx.api.serializers._\n",
       "\u001b[39m"
      ]
     },
     "execution_count": 1,
     "metadata": {},
     "output_type": "execute_result"
    }
   ],
   "source": [
    "import $ivy.`org.flinkextended::flink-scala-api:1.19.1_1.2.0`\n",
    "import $ivy.`org.apache.flink:flink-clients:1.19.1`\n",
    "import $ivy.`org.apache.flink:flink-core:1.19.1`\n",
    "import $ivy.`org.apache.flink:flink-runtime-web:1.19.1`\n",
    "\n",
    "import org.apache.flinkx.api._\n",
    "import org.apache.flinkx.api.serializers._"
   ]
  },
  {
   "cell_type": "code",
   "execution_count": 2,
   "metadata": {},
   "outputs": [
    {
     "name": "stderr",
     "output_type": "stream",
     "text": [
      "SLF4J(W): No SLF4J providers were found.\n",
      "SLF4J(W): Defaulting to no-operation (NOP) logger implementation\n",
      "SLF4J(W): See https://www.slf4j.org/codes.html#noProviders for further details.\n"
     ]
    },
    {
     "data": {
      "text/plain": [
       "\u001b[32mimport \u001b[39m\u001b[36morg.apache.flink.configuration.{Configuration, ConfigConstants}\n",
       "\u001b[39m\n",
       "\u001b[32mimport \u001b[39m\u001b[36morg.apache.flink.configuration.RestOptions.BIND_PORT\n",
       "\u001b[39m\n",
       "\u001b[32mimport \u001b[39m\u001b[36mscala.jdk.CollectionConverters._\n",
       "\n",
       "\u001b[39m\n",
       "\u001b[36mconfig\u001b[39m: \u001b[32mConfiguration\u001b[39m = {execution.checkpointing.interval=10 s, rest.port=8081, rest.bind-port=8081, local.start-webserver=true}\n",
       "\u001b[36menv\u001b[39m: \u001b[32mStreamExecutionEnvironment\u001b[39m = org.apache.flinkx.api.StreamExecutionEnvironment@e7bcb55"
      ]
     },
     "execution_count": 2,
     "metadata": {},
     "output_type": "execute_result"
    }
   ],
   "source": [
    "\n",
    "import org.apache.flink.configuration.{Configuration, ConfigConstants}\n",
    "import org.apache.flink.configuration.RestOptions.BIND_PORT\n",
    "import scala.jdk.CollectionConverters._\n",
    "\n",
    "val config = Configuration.fromMap(\n",
    "  Map(\n",
    "    ConfigConstants.LOCAL_START_WEBSERVER -> \"true\",\n",
    "    BIND_PORT.key -> \"8081\",\n",
    "    \"execution.checkpointing.interval\" -> \"10 s\"\n",
    "  ).asJava\n",
    ")\n",
    "val env = StreamExecutionEnvironment.createLocalEnvironmentWithWebUI(config)"
   ]
  },
  {
   "cell_type": "code",
   "execution_count": 3,
   "metadata": {},
   "outputs": [
    {
     "data": {
      "text/plain": [
       "\u001b[36mtext\u001b[39m: \u001b[32mDataStream\u001b[39m[\u001b[32mString\u001b[39m] = org.apache.flinkx.api.DataStream@67066e3b"
      ]
     },
     "execution_count": 3,
     "metadata": {},
     "output_type": "execute_result"
    }
   ],
   "source": [
    "val text = env.fromElements(\n",
    "    \"To be, or not to be,--that is the question:--\",\n",
    "    \"Whether 'tis nobler in the mind to suffer\",\n",
    "    \"The slings and arrows of outrageous fortune\",\n",
    "    \"Or to take arms against a sea of troubles,\"\n",
    "  )"
   ]
  },
  {
   "cell_type": "code",
   "execution_count": 4,
   "metadata": {},
   "outputs": [
    {
     "ename": "org.apache.flink.util.FlinkException",
     "evalue": "Failed to execute job 'wordCount'.",
     "output_type": "error",
     "traceback": [
      "\u001b[31morg.apache.flink.util.FlinkException: Failed to execute job 'wordCount'.\u001b[39m",
      "  org.apache.flink.streaming.api.environment.StreamExecutionEnvironment.executeAsync(\u001b[32mStreamExecutionEnvironment.java\u001b[39m:\u001b[32m2455\u001b[39m)",
      "  org.apache.flink.streaming.api.environment.StreamExecutionEnvironment.execute(\u001b[32mStreamExecutionEnvironment.java\u001b[39m:\u001b[32m2319\u001b[39m)",
      "  org.apache.flink.streaming.api.environment.LocalStreamEnvironment.execute(\u001b[32mLocalStreamEnvironment.java\u001b[39m:\u001b[32m68\u001b[39m)",
      "  org.apache.flink.streaming.api.environment.StreamExecutionEnvironment.execute(\u001b[32mStreamExecutionEnvironment.java\u001b[39m:\u001b[32m2293\u001b[39m)",
      "  org.apache.flinkx.api.StreamExecutionEnvironment.execute(\u001b[32mStreamExecutionEnvironment.scala\u001b[39m:\u001b[32m619\u001b[39m)",
      "  ammonite.$sess.cell4$Helper.<init>(\u001b[32mcell4.sc\u001b[39m:\u001b[32m8\u001b[39m)",
      "  ammonite.$sess.cell4$.<clinit>(\u001b[32mcell4.sc\u001b[39m:\u001b[32m65272\u001b[39m)",
      "\u001b[31mjava.lang.RuntimeException: org.apache.flink.runtime.client.JobInitializationException: Could not start the JobMaster.\u001b[39m",
      "  org.apache.flink.util.ExceptionUtils.rethrow(\u001b[32mExceptionUtils.java\u001b[39m:\u001b[32m321\u001b[39m)",
      "  org.apache.flink.util.function.FunctionUtils.lambda$uncheckedFunction$2(\u001b[32mFunctionUtils.java\u001b[39m:\u001b[32m75\u001b[39m)",
      "  java.util.concurrent.CompletableFuture$UniApply.tryFire(\u001b[32mCompletableFuture.java\u001b[39m:\u001b[32m642\u001b[39m)",
      "  java.util.concurrent.CompletableFuture$Completion.exec(\u001b[32mCompletableFuture.java\u001b[39m:\u001b[32m479\u001b[39m)",
      "  java.util.concurrent.ForkJoinTask.doExec(\u001b[32mForkJoinTask.java\u001b[39m:\u001b[32m290\u001b[39m)",
      "  java.util.concurrent.ForkJoinPool$WorkQueue.topLevelExec(\u001b[32mForkJoinPool.java\u001b[39m:\u001b[32m1020\u001b[39m)",
      "  java.util.concurrent.ForkJoinPool.scan(\u001b[32mForkJoinPool.java\u001b[39m:\u001b[32m1656\u001b[39m)",
      "  java.util.concurrent.ForkJoinPool.runWorker(\u001b[32mForkJoinPool.java\u001b[39m:\u001b[32m1594\u001b[39m)",
      "  java.util.concurrent.ForkJoinWorkerThread.run(\u001b[32mForkJoinWorkerThread.java\u001b[39m:\u001b[32m183\u001b[39m)",
      "\u001b[31morg.apache.flink.runtime.client.JobInitializationException: Could not start the JobMaster.\u001b[39m",
      "  org.apache.flink.runtime.jobmaster.DefaultJobMasterServiceProcess.lambda$new$0(\u001b[32mDefaultJobMasterServiceProcess.java\u001b[39m:\u001b[32m97\u001b[39m)",
      "  java.util.concurrent.CompletableFuture.uniWhenComplete(\u001b[32mCompletableFuture.java\u001b[39m:\u001b[32m859\u001b[39m)",
      "  java.util.concurrent.CompletableFuture$UniWhenComplete.tryFire(\u001b[32mCompletableFuture.java\u001b[39m:\u001b[32m837\u001b[39m)",
      "  java.util.concurrent.CompletableFuture.postComplete(\u001b[32mCompletableFuture.java\u001b[39m:\u001b[32m506\u001b[39m)",
      "  java.util.concurrent.CompletableFuture$AsyncSupply.run(\u001b[32mCompletableFuture.java\u001b[39m:\u001b[32m1705\u001b[39m)",
      "  java.util.concurrent.ThreadPoolExecutor.runWorker(\u001b[32mThreadPoolExecutor.java\u001b[39m:\u001b[32m1128\u001b[39m)",
      "  java.util.concurrent.ThreadPoolExecutor$Worker.run(\u001b[32mThreadPoolExecutor.java\u001b[39m:\u001b[32m628\u001b[39m)",
      "  java.lang.Thread.run(\u001b[32mThread.java\u001b[39m:\u001b[32m829\u001b[39m)",
      "\u001b[31mjava.util.concurrent.CompletionException: java.lang.RuntimeException: java.lang.ClassNotFoundException: org.apache.flink.api.common.ExecutionConfig\u001b[39m",
      "  java.util.concurrent.CompletableFuture.encodeThrowable(\u001b[32mCompletableFuture.java\u001b[39m:\u001b[32m314\u001b[39m)",
      "  java.util.concurrent.CompletableFuture.completeThrowable(\u001b[32mCompletableFuture.java\u001b[39m:\u001b[32m319\u001b[39m)",
      "  java.util.concurrent.CompletableFuture$AsyncSupply.run(\u001b[32mCompletableFuture.java\u001b[39m:\u001b[32m1702\u001b[39m)",
      "  java.util.concurrent.ThreadPoolExecutor.runWorker(\u001b[32mThreadPoolExecutor.java\u001b[39m:\u001b[32m1128\u001b[39m)",
      "  java.util.concurrent.ThreadPoolExecutor$Worker.run(\u001b[32mThreadPoolExecutor.java\u001b[39m:\u001b[32m628\u001b[39m)",
      "  java.lang.Thread.run(\u001b[32mThread.java\u001b[39m:\u001b[32m829\u001b[39m)",
      "\u001b[31mjava.lang.RuntimeException: java.lang.ClassNotFoundException: org.apache.flink.api.common.ExecutionConfig\u001b[39m",
      "  org.apache.flink.util.ExceptionUtils.rethrow(\u001b[32mExceptionUtils.java\u001b[39m:\u001b[32m321\u001b[39m)",
      "  org.apache.flink.util.function.FunctionUtils.lambda$uncheckedSupplier$4(\u001b[32mFunctionUtils.java\u001b[39m:\u001b[32m114\u001b[39m)",
      "  java.util.concurrent.CompletableFuture$AsyncSupply.run(\u001b[32mCompletableFuture.java\u001b[39m:\u001b[32m1700\u001b[39m)",
      "  java.util.concurrent.ThreadPoolExecutor.runWorker(\u001b[32mThreadPoolExecutor.java\u001b[39m:\u001b[32m1128\u001b[39m)",
      "  java.util.concurrent.ThreadPoolExecutor$Worker.run(\u001b[32mThreadPoolExecutor.java\u001b[39m:\u001b[32m628\u001b[39m)",
      "  java.lang.Thread.run(\u001b[32mThread.java\u001b[39m:\u001b[32m829\u001b[39m)",
      "\u001b[31mjava.lang.ClassNotFoundException: org.apache.flink.api.common.ExecutionConfig\u001b[39m",
      "  jdk.internal.loader.BuiltinClassLoader.loadClass(\u001b[32mBuiltinClassLoader.java\u001b[39m:\u001b[32m581\u001b[39m)",
      "  jdk.internal.loader.ClassLoaders$AppClassLoader.loadClass(\u001b[32mClassLoaders.java\u001b[39m:\u001b[32m178\u001b[39m)",
      "  java.lang.ClassLoader.loadClass(\u001b[32mClassLoader.java\u001b[39m:\u001b[32m527\u001b[39m)",
      "  java.lang.Class.forName0(\u001b[32mNative Method\u001b[39m)",
      "  java.lang.Class.forName(\u001b[32mClass.java\u001b[39m:\u001b[32m398\u001b[39m)",
      "  org.apache.flink.util.InstantiationUtil$ClassLoaderObjectInputStream.resolveClass(\u001b[32mInstantiationUtil.java\u001b[39m:\u001b[32m78\u001b[39m)",
      "  java.io.ObjectInputStream.readNonProxyDesc(\u001b[32mObjectInputStream.java\u001b[39m:\u001b[32m2003\u001b[39m)",
      "  java.io.ObjectInputStream.readClassDesc(\u001b[32mObjectInputStream.java\u001b[39m:\u001b[32m1870\u001b[39m)",
      "  java.io.ObjectInputStream.readOrdinaryObject(\u001b[32mObjectInputStream.java\u001b[39m:\u001b[32m2201\u001b[39m)",
      "  java.io.ObjectInputStream.readObject0(\u001b[32mObjectInputStream.java\u001b[39m:\u001b[32m1687\u001b[39m)",
      "  java.io.ObjectInputStream.readObject(\u001b[32mObjectInputStream.java\u001b[39m:\u001b[32m489\u001b[39m)",
      "  java.io.ObjectInputStream.readObject(\u001b[32mObjectInputStream.java\u001b[39m:\u001b[32m447\u001b[39m)",
      "  org.apache.flink.util.InstantiationUtil.deserializeObject(\u001b[32mInstantiationUtil.java\u001b[39m:\u001b[32m539\u001b[39m)",
      "  org.apache.flink.util.InstantiationUtil.deserializeObject(\u001b[32mInstantiationUtil.java\u001b[39m:\u001b[32m527\u001b[39m)",
      "  org.apache.flink.util.SerializedValue.deserializeValue(\u001b[32mSerializedValue.java\u001b[39m:\u001b[32m67\u001b[39m)",
      "  org.apache.flink.runtime.scheduler.DefaultSchedulerFactory.createInstance(\u001b[32mDefaultSchedulerFactory.java\u001b[39m:\u001b[32m102\u001b[39m)",
      "  org.apache.flink.runtime.jobmaster.DefaultSlotPoolServiceSchedulerFactory.createScheduler(\u001b[32mDefaultSlotPoolServiceSchedulerFactory.java\u001b[39m:\u001b[32m121\u001b[39m)",
      "  org.apache.flink.runtime.jobmaster.JobMaster.createScheduler(\u001b[32mJobMaster.java\u001b[39m:\u001b[32m379\u001b[39m)",
      "  org.apache.flink.runtime.jobmaster.JobMaster.<init>(\u001b[32mJobMaster.java\u001b[39m:\u001b[32m356\u001b[39m)",
      "  org.apache.flink.runtime.jobmaster.factories.DefaultJobMasterServiceFactory.internalCreateJobMasterService(\u001b[32mDefaultJobMasterServiceFactory.java\u001b[39m:\u001b[32m128\u001b[39m)",
      "  org.apache.flink.runtime.jobmaster.factories.DefaultJobMasterServiceFactory.lambda$createJobMasterService$0(\u001b[32mDefaultJobMasterServiceFactory.java\u001b[39m:\u001b[32m100\u001b[39m)",
      "  org.apache.flink.util.function.FunctionUtils.lambda$uncheckedSupplier$4(\u001b[32mFunctionUtils.java\u001b[39m:\u001b[32m112\u001b[39m)",
      "  java.util.concurrent.CompletableFuture$AsyncSupply.run(\u001b[32mCompletableFuture.java\u001b[39m:\u001b[32m1700\u001b[39m)",
      "  java.util.concurrent.ThreadPoolExecutor.runWorker(\u001b[32mThreadPoolExecutor.java\u001b[39m:\u001b[32m1128\u001b[39m)",
      "  java.util.concurrent.ThreadPoolExecutor$Worker.run(\u001b[32mThreadPoolExecutor.java\u001b[39m:\u001b[32m628\u001b[39m)",
      "  java.lang.Thread.run(\u001b[32mThread.java\u001b[39m:\u001b[32m829\u001b[39m)"
     ]
    }
   ],
   "source": [
    "text\n",
    "    .flatMap(_.toLowerCase.split(\"\\\\W+\"))\n",
    "    .map((_, 1))\n",
    "    .keyBy(_._1)\n",
    "    .sum(1)\n",
    "    .print()\n",
    "    \n",
    "env.execute(\"wordCount\")"
   ]
  },
  {
   "cell_type": "code",
   "execution_count": null,
   "metadata": {},
   "outputs": [],
   "source": [
    "import $ivy.`org.plotly-scala::plotly-almond:0.8.1`\n",
    "\n",
    "import plotly._\n",
    "import plotly.element._\n",
    "import plotly.layout._\n",
    "import plotly.Almond._\n",
    "\n",
    "val (x, y) = words.unzip\n",
    "\n",
    "Bar(x, y).plot()"
   ]
  },
  {
   "cell_type": "code",
   "execution_count": null,
   "metadata": {},
   "outputs": [],
   "source": []
  }
 ],
 "metadata": {
  "kernelspec": {
   "display_name": "Scala (3)",
   "language": "scala",
   "name": "scala3"
  },
  "language_info": {
   "codemirror_mode": "text/x-scala",
   "file_extension": ".sc",
   "mimetype": "text/x-scala",
   "name": "scala",
   "nbconvert_exporter": "script",
   "version": "2.13.11"
  },
  "orig_nbformat": 4
 },
 "nbformat": 4,
 "nbformat_minor": 2
}
